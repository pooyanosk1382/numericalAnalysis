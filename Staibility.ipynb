{
 "cells": [
  {
   "cell_type": "code",
   "execution_count": 5,
   "outputs": [],
   "source": [
    "# This code is developed by Pooyan :D"
   ],
   "metadata": {
    "collapsed": false,
    "pycharm": {
     "name": "#%%\n"
    }
   }
  },
  {
   "cell_type": "markdown",
   "source": [
    "# Assignment Tittle\n",
    "__Author__ : Pooyan oskouhi 400222003\n",
    "__Course__ : Undergraduate Numerical Analysis Course"
   ],
   "metadata": {
    "collapsed": false,
    "pycharm": {
     "name": "#%% md\n"
    }
   }
  },
  {
   "cell_type": "markdown",
   "source": [
    "# Problem\n",
    "Calculate the 15 sequence sentences by these two algorithms.\n",
    "__1. Xn+1 = 13/3 Xn - 4/3 Xn-1__\n",
    "__2. Xn = (1/3)^n__"
   ],
   "metadata": {
    "collapsed": false,
    "pycharm": {
     "name": "#%% md\n"
    }
   }
  },
  {
   "cell_type": "code",
   "execution_count": 6,
   "outputs": [
    {
     "name": "stdout",
     "output_type": "stream",
     "text": [
      "1\n",
      "0.3333333333333333\n",
      "0.11111111111111094\n",
      "0.03703703703703626\n",
      "0.012345679012342514\n",
      "0.004115226337435884\n",
      "0.0013717421124321456\n",
      "0.00045724737062478524\n",
      "0.00015241578946454185\n",
      "5.0805260179967644e-05\n",
      "1.6935074827137338e-05\n",
      "5.644977344304949e-06\n",
      "1.8814687224716613e-06\n",
      "6.263946716372672e-07\n",
      "2.0575194713260943e-07\n"
     ]
    }
   ],
   "source": [
    "def algo1(n):\n",
    "    if n == 0:\n",
    "        return 1\n",
    "    elif n == 1:\n",
    "        return 1/3\n",
    "    else:\n",
    "        return (13/3)*algo1(n-1) - (4/3)*algo1(n-2)\n",
    "\n",
    "for i in range(15):\n",
    "    print(algo1(i))"
   ],
   "metadata": {
    "collapsed": false,
    "pycharm": {
     "name": "#%%\n"
    }
   }
  },
  {
   "cell_type": "code",
   "execution_count": 7,
   "outputs": [
    {
     "name": "stdout",
     "output_type": "stream",
     "text": [
      "1.0\n",
      "0.3333333333333333\n",
      "0.1111111111111111\n",
      "0.03703703703703703\n",
      "0.012345679012345677\n",
      "0.004115226337448558\n",
      "0.0013717421124828527\n",
      "0.00045724737082761756\n",
      "0.0001524157902758725\n",
      "5.0805263425290837e-05\n",
      "1.693508780843028e-05\n",
      "5.645029269476759e-06\n",
      "1.8816764231589195e-06\n",
      "6.272254743863065e-07\n",
      "2.090751581287688e-07\n"
     ]
    }
   ],
   "source": [
    "for i in range(15):\n",
    "    print((1/3)**i)"
   ],
   "metadata": {
    "collapsed": false,
    "pycharm": {
     "name": "#%%\n"
    }
   }
  },
  {
   "cell_type": "markdown",
   "source": [
    "# Conclusion\n",
    "Because the first algorithm is not stable so, we can see that the answer is not same but if we simplify that we see both of them must have same value."
   ],
   "metadata": {
    "collapsed": false,
    "pycharm": {
     "name": "#%% md\n"
    }
   }
  },
  {
   "cell_type": "code",
   "execution_count": 8,
   "outputs": [],
   "source": [
    "# Hope you like it ;)"
   ],
   "metadata": {
    "collapsed": false,
    "pycharm": {
     "name": "#%%\n"
    }
   }
  }
 ],
 "metadata": {
  "kernelspec": {
   "display_name": "Python 3",
   "language": "python",
   "name": "python3"
  },
  "language_info": {
   "codemirror_mode": {
    "name": "ipython",
    "version": 2
   },
   "file_extension": ".py",
   "mimetype": "text/x-python",
   "name": "python",
   "nbconvert_exporter": "python",
   "pygments_lexer": "ipython2",
   "version": "2.7.6"
  }
 },
 "nbformat": 4,
 "nbformat_minor": 0
}