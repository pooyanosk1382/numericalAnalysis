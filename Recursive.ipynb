{
 "cells": [
  {
   "cell_type": "code",
   "execution_count": 1,
   "outputs": [],
   "source": [
    "# This code is developed by Pooyan :D"
   ],
   "metadata": {
    "collapsed": false,
    "pycharm": {
     "name": "#%%\n"
    }
   }
  },
  {
   "cell_type": "markdown",
   "source": [
    "# Assignment Tittle\n",
    "__Author__ : Pooyan oskouhi 400222003\n",
    "__Course__ : Undergraduate Numerical Analysis Course"
   ],
   "metadata": {
    "collapsed": false,
    "pycharm": {
     "name": "#%% md\n"
    }
   }
  },
  {
   "cell_type": "markdown",
   "source": [
    "# Problem\n",
    "Calculate the value of $\\int_{0}^1 x^ne^xdx$ with recursive function."
   ],
   "metadata": {
    "collapsed": false,
    "pycharm": {
     "name": "#%% md\n"
    }
   }
  },
  {
   "cell_type": "code",
   "execution_count": 2,
   "outputs": [
    {
     "name": "stdout",
     "output_type": "stream",
     "text": [
      "exp(x)\n",
      "2.71828182845905 - exp(x)\n",
      "2*exp(x) - 2.71828182845905\n",
      "10.8731273138362 - 6*exp(x)\n",
      "24*exp(x) - 40.7742274268857\n",
      "206.589418962887 - 120*exp(x)\n",
      "720*exp(x) - 1236.81823194887\n",
      "8660.44590547051 - 5040*exp(x)\n",
      "40320*exp(x) - 69280.8489619357\n",
      "623530.358939249 - 362880*exp(x)\n",
      "3628800*exp(x) - 6235300.87111066\n",
      "68588312.3004991 - 39916800*exp(x)\n",
      "479001600*exp(x) - 823059744.887708\n",
      "10699776686.2585 - 6227020800*exp(x)\n",
      "87178291200*exp(x) - 149796873604.9\n",
      "2246953104076.23 - 1307674368000*exp(x)\n"
     ]
    }
   ],
   "source": [
    "import math\n",
    "import sympy as sp\n",
    "x = sp.symbols('x')\n",
    "def recursiveFunction(n):\n",
    "    if n == 0:\n",
    "        return sp.integrate(sp.exp(x))\n",
    "    else:\n",
    "        return math.e - n*recursiveFunction(n-1)\n",
    "\n",
    "for i in range(16):\n",
    "    print(recursiveFunction(i))"
   ],
   "metadata": {
    "collapsed": false,
    "pycharm": {
     "name": "#%%\n"
    }
   }
  },
  {
   "cell_type": "code",
   "execution_count": null,
   "outputs": [],
   "source": [],
   "metadata": {
    "collapsed": false,
    "pycharm": {
     "name": "#%%\n"
    }
   }
  }
 ],
 "metadata": {
  "kernelspec": {
   "display_name": "Python 3",
   "language": "python",
   "name": "python3"
  },
  "language_info": {
   "codemirror_mode": {
    "name": "ipython",
    "version": 2
   },
   "file_extension": ".py",
   "mimetype": "text/x-python",
   "name": "python",
   "nbconvert_exporter": "python",
   "pygments_lexer": "ipython2",
   "version": "2.7.6"
  }
 },
 "nbformat": 4,
 "nbformat_minor": 0
}