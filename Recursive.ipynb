{
 "cells": [
  {
   "cell_type": "code",
   "execution_count": 4,
   "outputs": [],
   "source": [
    "# This code is developed by Pooyan :D"
   ],
   "metadata": {
    "collapsed": false,
    "pycharm": {
     "name": "#%%\n"
    }
   }
  },
  {
   "cell_type": "markdown",
   "source": [
    "# Assignment Tittle\n",
    "__Author__ : Pooyan oskouhi 400222003\n",
    "__Course__ : Undergraduate Numerical Analysis Course"
   ],
   "metadata": {
    "collapsed": false,
    "pycharm": {
     "name": "#%% md\n"
    }
   }
  },
  {
   "cell_type": "markdown",
   "source": [
    "# Problem\n",
    "Calculate the value of $\\int_{0}^1 x^ne^xdx$ with recursive function."
   ],
   "metadata": {
    "collapsed": false,
    "pycharm": {
     "name": "#%% md\n"
    }
   }
  },
  {
   "cell_type": "code",
   "execution_count": 5,
   "outputs": [
    {
     "name": "stdout",
     "output_type": "stream",
     "text": [
      "2.718281828459045\n",
      "0.0\n",
      "2.718281828459045\n",
      "-5.436563656918091\n",
      "24.46453645613141\n",
      "-119.604400452198\n",
      "720.3446845416471\n",
      "-5039.69450996307\n",
      "40320.27436153302\n",
      "-362879.7509719687\n",
      "3628800.2280015154\n",
      "-39916799.78973484\n",
      "479001600.1950999\n",
      "-6227020799.818017\n",
      "87178291200.17052\n",
      "-1307674367999.8396\n"
     ]
    }
   ],
   "source": [
    "import math\n",
    "def recursiveFunction(n):\n",
    "    if n == 0:\n",
    "        return math.e\n",
    "    else:\n",
    "        return math.e - n*recursiveFunction(n-1)\n",
    "\n",
    "for i in range(16):\n",
    "    print(recursiveFunction(i))"
   ],
   "metadata": {
    "collapsed": false,
    "pycharm": {
     "name": "#%%\n"
    }
   }
  },
  {
   "cell_type": "markdown",
   "source": [
    "# Conclusion\n",
    "As we see our function don't get close to 0 by growing n."
   ],
   "metadata": {
    "collapsed": false,
    "pycharm": {
     "name": "#%% md\n"
    }
   }
  },
  {
   "cell_type": "code",
   "execution_count": 6,
   "outputs": [],
   "source": [
    "# Hope you like it ;)"
   ],
   "metadata": {
    "collapsed": false,
    "pycharm": {
     "name": "#%%\n"
    }
   }
  }
 ],
 "metadata": {
  "kernelspec": {
   "display_name": "Python 3",
   "language": "python",
   "name": "python3"
  },
  "language_info": {
   "codemirror_mode": {
    "name": "ipython",
    "version": 2
   },
   "file_extension": ".py",
   "mimetype": "text/x-python",
   "name": "python",
   "nbconvert_exporter": "python",
   "pygments_lexer": "ipython2",
   "version": "2.7.6"
  }
 },
 "nbformat": 4,
 "nbformat_minor": 0
}