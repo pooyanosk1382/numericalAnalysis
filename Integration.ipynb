{
 "cells": [
  {
   "cell_type": "code",
   "execution_count": 1,
   "outputs": [],
   "source": [
    "# This code is developed by Pooyan :D"
   ],
   "metadata": {
    "collapsed": false,
    "pycharm": {
     "name": "#%%\n"
    }
   }
  },
  {
   "cell_type": "markdown",
   "source": [
    "# Assignment Tittle\n",
    "__Author__ : Pooyan oskouhi 400222003\n",
    "__Course__ : Undergraduate Numerical Analysis Course"
   ],
   "metadata": {
    "collapsed": false,
    "pycharm": {
     "name": "#%% md\n"
    }
   }
  },
  {
   "cell_type": "code",
   "execution_count": 3,
   "outputs": [],
   "source": [
    "import numpy as np\n",
    "import pandas as pd\n",
    "import matplotlib.pyplot as plt\n",
    "import sympy as sp"
   ],
   "metadata": {
    "collapsed": false,
    "pycharm": {
     "name": "#%%\n"
    }
   }
  },
  {
   "cell_type": "markdown",
   "source": [
    "## Problem 1\n",
    "In Newton-Raphson methods, $\\int_{a}^{b} f(x)dx = \\sum w_jf(x_j)$. That means we consider integral equals by weighted sum of function $f$ in same distance points $x_j$ which are determined and we only need to determine weights.<br>\n",
    "\n",
    "Consider $x_j$ s as variable, for polynomials with degree zero and one calculate formula in template of $\\int_{-1}^{1} f(x)dx = w_1f(x)$ to achive highest precision.<br>"
   ],
   "metadata": {
    "collapsed": false,
    "pycharm": {
     "name": "#%% md\n"
    }
   }
  },
  {
   "cell_type": "markdown",
   "source": [
    "### Answer\n",
    "Because we only want to approximate with one point, we choose the middle point of the interval, that is, $x_1 = 0$\n",
    "$$\n",
    "    \\begin{cases}\n",
    "      f(x) = 1 \\Rightarrow w_1 \\times 1 = \\int_{-1}^{1} 1dx = 2\\\\\n",
    "      f(x) = x \\Rightarrow w_1 \\times x_1 = \\int_{-1}^{1} xdx = 0\\\\\n",
    "    \\end{cases}\n",
    "$$\n",
    "$$\n",
    "\\Rightarrow\n",
    "    \\begin{cases}\n",
    "      w_1 \\times 1 = 2\\\\\n",
    "      w_1 \\times 0 = 0\\\\\n",
    "    \\end{cases}\n",
    "$$\n",
    "$$\n",
    "\\Rightarrow\n",
    "    w_1 = 2\n",
    "$$"
   ],
   "metadata": {
    "collapsed": false,
    "pycharm": {
     "name": "#%% md\n"
    }
   }
  },
  {
   "cell_type": "code",
   "execution_count": 4,
   "outputs": [
    {
     "ename": "SyntaxError",
     "evalue": "invalid syntax (1116969823.py, line 2)",
     "output_type": "error",
     "traceback": [
      "\u001B[1;36m  Cell \u001B[1;32mIn [4], line 2\u001B[1;36m\u001B[0m\n\u001B[1;33m    Solve previous question for two points. $\\int_{-1}^{1} f(x)dx \\approx w_1f(x_1) + w_2f(x_2)$.\u001B[0m\n\u001B[1;37m          ^\u001B[0m\n\u001B[1;31mSyntaxError\u001B[0m\u001B[1;31m:\u001B[0m invalid syntax\n"
     ]
    }
   ],
   "source": [
    "## Problem 2\n",
    "Solve previous question for two points. $\\int_{-1}^{1} f(x)dx \\approx w_1f(x_1) + w_2f(x_2)$."
   ],
   "metadata": {
    "collapsed": false,
    "pycharm": {
     "name": "#%%\n"
    }
   }
  },
  {
   "cell_type": "code",
   "execution_count": null,
   "outputs": [],
   "source": [],
   "metadata": {
    "collapsed": false,
    "pycharm": {
     "name": "#%%\n"
    }
   }
  }
 ],
 "metadata": {
  "kernelspec": {
   "display_name": "Python 3",
   "language": "python",
   "name": "python3"
  },
  "language_info": {
   "codemirror_mode": {
    "name": "ipython",
    "version": 2
   },
   "file_extension": ".py",
   "mimetype": "text/x-python",
   "name": "python",
   "nbconvert_exporter": "python",
   "pygments_lexer": "ipython2",
   "version": "2.7.6"
  }
 },
 "nbformat": 4,
 "nbformat_minor": 0
}