{
 "cells": [
  {
   "cell_type": "code",
   "execution_count": 2,
   "outputs": [],
   "source": [
    "# This code is developed by Pooyan :D"
   ],
   "metadata": {
    "collapsed": false,
    "pycharm": {
     "name": "#%%\n"
    }
   }
  },
  {
   "cell_type": "markdown",
   "source": [
    "# Assignment Tittle\n",
    "__Author__ : Pooyan oskouhi 400222003\n",
    "__Course__ : Undergraduate Numerical Analysis Course"
   ],
   "metadata": {
    "collapsed": false,
    "pycharm": {
     "name": "#%% md\n"
    }
   }
  },
  {
   "cell_type": "code",
   "execution_count": 1,
   "outputs": [],
   "source": [
    "import numpy as np\n",
    "import pandas as pd\n",
    "import matplotlib.pyplot as plt\n",
    "import sympy as sp"
   ],
   "metadata": {
    "collapsed": false,
    "pycharm": {
     "name": "#%%\n"
    }
   }
  },
  {
   "cell_type": "markdown",
   "source": [
    "## Problem 1\n",
    "Calculate an exponential mathematical model on these data points:<br>\n",
    "You can use $\\ln{y} = \\ln{a} + bx$ for your calculations.<br>\n",
    "$Y = A + Bx$"
   ],
   "metadata": {
    "collapsed": false,
    "pycharm": {
     "name": "#%% md\n"
    }
   }
  },
  {
   "cell_type": "code",
   "execution_count": 2,
   "outputs": [],
   "source": [
    "x_values = np.array([1, 2, 3, 4, 5, 6])\n",
    "y_values = np.array([1, 2.3, 4.1, 7.8, 15.9, 33])"
   ],
   "metadata": {
    "collapsed": false,
    "pycharm": {
     "name": "#%%\n"
    }
   }
  },
  {
   "cell_type": "code",
   "execution_count": 3,
   "outputs": [],
   "source": [
    "a11 = 6\n",
    "a12 = np.sum(x_values)\n",
    "a21 = np.sum(x_values)\n",
    "a22 = np.sum(x_values**2)\n",
    "\n",
    "b11 = np.sum(np.log(y_values))\n",
    "b21 = np.sum(x_values * np.log(y_values))"
   ],
   "metadata": {
    "collapsed": false,
    "pycharm": {
     "name": "#%%\n"
    }
   }
  },
  {
   "cell_type": "code",
   "execution_count": 4,
   "outputs": [
    {
     "data": {
      "text/plain": "{A: -0.632449369113480, B: 0.683597272176880}"
     },
     "execution_count": 4,
     "metadata": {},
     "output_type": "execute_result"
    }
   ],
   "source": [
    "A, B = sp.symbols('A B')\n",
    "eq1 = sp.Eq(a11*A + a12*B, b11)\n",
    "eq2 = sp.Eq(a21*A + a22*B, b21)\n",
    "answer = sp.solve((eq1, eq2), (A, B))\n",
    "answer"
   ],
   "metadata": {
    "collapsed": false,
    "pycharm": {
     "name": "#%%\n"
    }
   }
  },
  {
   "cell_type": "code",
   "execution_count": 5,
   "outputs": [],
   "source": [
    "a, b = np.exp(float(answer.get(A))), float(answer.get(B))"
   ],
   "metadata": {
    "collapsed": false,
    "pycharm": {
     "name": "#%%\n"
    }
   }
  },
  {
   "cell_type": "code",
   "execution_count": 6,
   "outputs": [],
   "source": [
    "x = sp.symbols('x')\n",
    "y = a * sp.exp(b * x)"
   ],
   "metadata": {
    "collapsed": false,
    "pycharm": {
     "name": "#%%\n"
    }
   }
  },
  {
   "cell_type": "code",
   "execution_count": 7,
   "outputs": [
    {
     "data": {
      "text/plain": "<Figure size 1000x700 with 1 Axes>",
      "image/png": "[encoded data removed]"
     },
     "metadata": {},
     "output_type": "display_data"
    }
   ],
   "source": [
    "x_val = np.linspace(1, 6, 100)\n",
    "y_val = [float(y.subs(x, i)) for i in x_val]\n",
    "plt.figure(figsize=(10, 7))\n",
    "plt.plot(x_values, y_values, 'o', color='black', label='data')\n",
    "plt.plot(x_val, y_val, color='red', label='regression')\n",
    "plt.legend()\n",
    "plt.show()"
   ],
   "metadata": {
    "collapsed": false,
    "pycharm": {
     "name": "#%%\n"
    }
   }
  },
  {
   "cell_type": "markdown",
   "source": [
    "## Problem 2\n",
    "Calculate a model with formula $y = \\frac{1}{a+bx}$ on first question data points. You can use $\\frac{1}{y} = a + bx$ and $Y = A + Bx$."
   ],
   "metadata": {
    "collapsed": false,
    "pycharm": {
     "name": "#%% md\n"
    }
   }
  },
  {
   "cell_type": "code",
   "execution_count": 8,
   "outputs": [],
   "source": [
    "a11 = 6\n",
    "a12 = np.sum(x_values)\n",
    "a21 = np.sum(x_values)\n",
    "a22 = np.sum(x_values**2)\n",
    "\n",
    "b11 = np.sum(1 / y_values)\n",
    "b21 = np.sum(x_values * (1 / y_values))"
   ],
   "metadata": {
    "collapsed": false,
    "pycharm": {
     "name": "#%%\n"
    }
   }
  },
  {
   "cell_type": "code",
   "execution_count": 9,
   "outputs": [
    {
     "data": {
      "text/plain": "{a: 0.924666122009009, b: -0.173710021145945}"
     },
     "execution_count": 9,
     "metadata": {},
     "output_type": "execute_result"
    }
   ],
   "source": [
    "a, b = sp.symbols('a b')\n",
    "eq1 = sp.Eq(a11*a + a12*b, b11)\n",
    "eq2 = sp.Eq(a21*a + a22*b, b21)\n",
    "answer = sp.solve((eq1, eq2), (a, b))\n",
    "answer"
   ],
   "metadata": {
    "collapsed": false,
    "pycharm": {
     "name": "#%%\n"
    }
   }
  },
  {
   "cell_type": "code",
   "execution_count": 10,
   "outputs": [],
   "source": [
    "a, b = float(answer.get(a)), float(answer.get(b))"
   ],
   "metadata": {
    "collapsed": false,
    "pycharm": {
     "name": "#%%\n"
    }
   }
  },
  {
   "cell_type": "code",
   "execution_count": 11,
   "outputs": [],
   "source": [
    "x = sp.symbols('x')\n",
    "y = 1 / (a + b * x)"
   ],
   "metadata": {
    "collapsed": false,
    "pycharm": {
     "name": "#%%\n"
    }
   }
  },
  {
   "cell_type": "code",
   "execution_count": 12,
   "outputs": [
    {
     "data": {
      "text/plain": "<Figure size 1000x700 with 1 Axes>",
      "image/png": "[encoded data removed]"
     },
     "metadata": {},
     "output_type": "display_data"
    }
   ],
   "source": [
    "x_val = np.linspace(1, 6, 100)\n",
    "y_val = [float(y.subs(x, i)) for i in x_val]\n",
    "plt.figure(figsize=(10, 7))\n",
    "plt.plot(x_values, y_values, 'o', color='black', label='data')\n",
    "plt.plot(x_val, y_val, color='red', label='regression')\n",
    "plt.legend()\n",
    "\n",
    "plt.show()"
   ],
   "metadata": {
    "collapsed": false,
    "pycharm": {
     "name": "#%%\n"
    }
   }
  },
  {
   "cell_type": "code",
   "execution_count": 3,
   "metadata": {
    "collapsed": true,
    "pycharm": {
     "name": "#%%\n"
    }
   },
   "outputs": [],
   "source": [
    "# Hope you like it ;)"
   ]
  }
 ],
 "metadata": {
  "kernelspec": {
   "display_name": "Python 3",
   "language": "python",
   "name": "python3"
  },
  "language_info": {
   "codemirror_mode": {
    "name": "ipython",
    "version": 2
   },
   "file_extension": ".py",
   "mimetype": "text/x-python",
   "name": "python",
   "nbconvert_exporter": "python",
   "pygments_lexer": "ipython2",
   "version": "2.7.6"
  }
 },
 "nbformat": 4,
 "nbformat_minor": 0
}