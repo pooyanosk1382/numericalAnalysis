{
 "cells": [
  {
   "cell_type": "code",
   "execution_count": 2,
   "outputs": [],
   "source": [
    "# This code is developed by Pooyan :D"
   ],
   "metadata": {
    "collapsed": false,
    "pycharm": {
     "name": "#%%\n"
    }
   }
  },
  {
   "cell_type": "markdown",
   "source": [
    "# Assignment Tittle\n",
    "__Author__ : Pooyan oskouhi 400222003\n",
    "__Course__ : Undergraduate Numerical Analysis Course"
   ],
   "metadata": {
    "collapsed": false,
    "pycharm": {
     "name": "#%% md\n"
    }
   }
  },
  {
   "cell_type": "markdown",
   "source": [
    "# Problem 1:\n",
    "$f(x) = x(\\sqrt{x+1} - \\sqrt{x})$\n",
    "\n",
    "Find the rounded values with 6 digits and find its errors."
   ],
   "metadata": {
    "collapsed": false,
    "pycharm": {
     "name": "#%% md\n"
    }
   }
  },
  {
   "cell_type": "code",
   "execution_count": 3,
   "outputs": [],
   "source": [
    "import math\n",
    "\n",
    "def f(x):\n",
    "    return x*(math.sqrt(x+1) - math.sqrt(x))"
   ],
   "metadata": {
    "collapsed": false,
    "pycharm": {
     "name": "#%%\n"
    }
   }
  },
  {
   "cell_type": "code",
   "execution_count": 4,
   "outputs": [
    {
     "name": "stdout",
     "output_type": "stream",
     "text": [
      "0.41421356237309515\n",
      "1.5434713018702029\n",
      "4.987562112088995\n",
      "15.807437428957627\n",
      "49.99875006248544\n",
      "158.1134877255863\n"
     ]
    }
   ],
   "source": [
    "num = [0] * 6\n",
    "accurate = [0] * 6\n",
    "approximate = [0] * 6\n",
    "for i in range(6):\n",
    "    num[i] = 10**i\n",
    "    print(f(10**i))"
   ],
   "metadata": {
    "collapsed": false,
    "pycharm": {
     "name": "#%%\n"
    }
   }
  },
  {
   "cell_type": "code",
   "execution_count": 5,
   "outputs": [],
   "source": [
    "accurate    = [0.414213, 1.54347, 4.98756, 15.8074, 49.9987, 158.113]\n",
    "approximate = [0.414214, 1.54347, 4.98756, 15.8074, 49.9988, 158.113]"
   ],
   "metadata": {
    "collapsed": false,
    "pycharm": {
     "name": "#%%\n"
    }
   }
  },
  {
   "cell_type": "markdown",
   "source": [
    "# Problem 2:\n",
    "Calculate until 3 and 4 decimal $\\sqrt{2}$ $\\sqrt{3}$ $\\sqrt{23}$"
   ],
   "metadata": {
    "collapsed": false,
    "pycharm": {
     "name": "#%% md\n"
    }
   }
  },
  {
   "cell_type": "markdown",
   "source": [
    "First, we calculate until 3 decimal."
   ],
   "metadata": {
    "collapsed": false,
    "pycharm": {
     "name": "#%% md\n"
    }
   }
  },
  {
   "cell_type": "code",
   "execution_count": 7,
   "outputs": [
    {
     "name": "stdout",
     "output_type": "stream",
     "text": [
      "1.414\n",
      "1.732\n",
      "4.796\n"
     ]
    }
   ],
   "source": [
    "print(round(math.sqrt(2), 3))\n",
    "print(round(math.sqrt(3), 3))\n",
    "print(round(math.sqrt(23), 3))"
   ],
   "metadata": {
    "collapsed": false,
    "pycharm": {
     "name": "#%%\n"
    }
   }
  },
  {
   "cell_type": "markdown",
   "source": [
    "Now calculate until 4 decimal."
   ],
   "metadata": {
    "collapsed": false,
    "pycharm": {
     "name": "#%% md\n"
    }
   }
  },
  {
   "cell_type": "code",
   "execution_count": 8,
   "outputs": [
    {
     "name": "stdout",
     "output_type": "stream",
     "text": [
      "1.4142\n",
      "1.7321\n",
      "4.7958\n"
     ]
    }
   ],
   "source": [
    "print(round(math.sqrt(2), 4))\n",
    "print(round(math.sqrt(3), 4))\n",
    "print(round(math.sqrt(23), 4))"
   ],
   "metadata": {
    "collapsed": false,
    "pycharm": {
     "name": "#%%\n"
    }
   }
  },
  {
   "cell_type": "code",
   "execution_count": 10,
   "outputs": [
    {
     "name": "stdout",
     "output_type": "stream",
     "text": [
      "0.00021356237309522186\n",
      "5.0807568877209164e-05\n",
      "-0.0001684766872811494\n"
     ]
    }
   ],
   "source": [
    "print(math.sqrt(2) - round(math.sqrt(2), 3))\n",
    "print(math.sqrt(3) - round(math.sqrt(3), 3))\n",
    "print(math.sqrt(23) - round(math.sqrt(23), 3))"
   ],
   "metadata": {
    "collapsed": false,
    "pycharm": {
     "name": "#%%\n"
    }
   }
  },
  {
   "cell_type": "code",
   "execution_count": null,
   "outputs": [],
   "source": [],
   "metadata": {
    "collapsed": false,
    "pycharm": {
     "name": "#%%\n"
    }
   }
  }
 ],
 "metadata": {
  "kernelspec": {
   "display_name": "Python 3",
   "language": "python",
   "name": "python3"
  },
  "language_info": {
   "codemirror_mode": {
    "name": "ipython",
    "version": 2
   },
   "file_extension": ".py",
   "mimetype": "text/x-python",
   "name": "python",
   "nbconvert_exporter": "python",
   "pygments_lexer": "ipython2",
   "version": "2.7.6"
  }
 },
 "nbformat": 4,
 "nbformat_minor": 0
}