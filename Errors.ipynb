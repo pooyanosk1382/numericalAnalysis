{
 "cells": [
  {
   "cell_type": "code",
   "execution_count": 281,
   "outputs": [],
   "source": [
    "# This code is developed by Pooyan :D"
   ],
   "metadata": {
    "collapsed": false,
    "pycharm": {
     "name": "#%%\n"
    }
   }
  },
  {
   "cell_type": "markdown",
   "source": [
    "# Assignment Tittle\n",
    "__Author__ : Pooyan oskouhi 400222003\n",
    "__Course__ : Undergraduate Numerical Analysis Course"
   ],
   "metadata": {
    "collapsed": false,
    "pycharm": {
     "name": "#%% md\n"
    }
   }
  },
  {
   "cell_type": "markdown",
   "source": [
    "# Problem 1:\n",
    "$f(x) = x(\\sqrt{x+1} - \\sqrt{x})$\n",
    "\n",
    "Find the rounded values with 6 digits and find its errors."
   ],
   "metadata": {
    "collapsed": false,
    "pycharm": {
     "name": "#%% md\n"
    }
   }
  },
  {
   "cell_type": "code",
   "execution_count": 282,
   "outputs": [],
   "source": [
    "import math\n",
    "from prettytable import PrettyTable\n",
    "\n",
    "def f(x):\n",
    "    return x*(math.sqrt(x+1) - math.sqrt(x))"
   ],
   "metadata": {
    "collapsed": false,
    "pycharm": {
     "name": "#%%\n"
    }
   }
  },
  {
   "cell_type": "code",
   "execution_count": 283,
   "outputs": [
    {
     "name": "stdout",
     "output_type": "stream",
     "text": [
      "[0.4142136, 1.5434713, 4.9875621, 15.8074374, 49.9987501, 158.1134877]\n",
      "[0.414214, 1.54347, 4.9876, 15.807, 50.0, 158.1]\n"
     ]
    }
   ],
   "source": [
    "num = [0] * 6\n",
    "accurate = [0] * 6\n",
    "approximate = [0] * 6\n",
    "for i in range(6):\n",
    "    num[i] = 10**i\n",
    "    accurate[i] = round(f(10**i), 7)\n",
    "    approximate[i] = round(10**i * (round(math.sqrt(10**i + 1), 6) - round(math.sqrt(10**i), 6)), 6)\n",
    "print(accurate)\n",
    "print(approximate)"
   ],
   "metadata": {
    "collapsed": false,
    "pycharm": {
     "name": "#%%\n"
    }
   }
  },
  {
   "cell_type": "code",
   "execution_count": 284,
   "outputs": [
    {
     "data": {
      "text/plain": "[1e-06, 0.0, 4e-05, 0.0004, 0.0013, 0.013]"
     },
     "execution_count": 284,
     "metadata": {},
     "output_type": "execute_result"
    }
   ],
   "source": [
    "accurate    = [0.414213, 1.54347, 4.98756, 15.8074, 49.9987, 158.113]\n",
    "approximate = [0.414214, 1.54347, 4.98760, 15.8070, 50.0000, 158.100]\n",
    "error = [0] * 6\n",
    "for i in range(6):\n",
    "    error[i] = round(abs(accurate[i] - approximate[i]), 6)\n",
    "error"
   ],
   "metadata": {
    "collapsed": false,
    "pycharm": {
     "name": "#%%\n"
    }
   }
  },
  {
   "cell_type": "code",
   "execution_count": 285,
   "outputs": [
    {
     "data": {
      "text/plain": "[2e-06, 0.0, 8e-06, 2.5e-05, 2.6e-05, 8.2e-05]"
     },
     "execution_count": 285,
     "metadata": {},
     "output_type": "execute_result"
    }
   ],
   "source": [
    "relativeError = [0] * 6\n",
    "for i in range(6):\n",
    "    relativeError[i] = round(error[i] / accurate[i], 6)\n",
    "relativeError"
   ],
   "metadata": {
    "collapsed": false,
    "pycharm": {
     "name": "#%%\n"
    }
   }
  },
  {
   "cell_type": "code",
   "execution_count": 286,
   "outputs": [
    {
     "name": "stdout",
     "output_type": "stream",
     "text": [
      "+--------+----------+-------------+--------+---------------+\n",
      "|   x    | accurate | approximate | error  | relativeError |\n",
      "+--------+----------+-------------+--------+---------------+\n",
      "|   1    | 0.414213 |   0.414214  | 1e-06  |     2e-06     |\n",
      "|   10   | 1.54347  |   1.54347   |  0.0   |      0.0      |\n",
      "|  100   | 4.98756  |    4.9876   | 4e-05  |     8e-06     |\n",
      "|  1000  | 15.8074  |    15.807   | 0.0004 |    2.5e-05    |\n",
      "| 10000  | 49.9987  |     50.0    | 0.0013 |    2.6e-05    |\n",
      "| 100000 | 158.113  |    158.1    | 0.013  |    8.2e-05    |\n",
      "+--------+----------+-------------+--------+---------------+\n"
     ]
    }
   ],
   "source": [
    "t = PrettyTable(['x', 'accurate', 'approximate', 'error', 'relativeError'])\n",
    "for i in range(6):\n",
    "    t.add_row([10**i, accurate[i], approximate[i], error[i], relativeError[i]])\n",
    "print(t)"
   ],
   "metadata": {
    "collapsed": false,
    "pycharm": {
     "name": "#%%\n"
    }
   }
  },
  {
   "cell_type": "markdown",
   "source": [
    "# Expansion\n",
    "Find the values in problem one with a way that we calculate:\n",
    "$f(x) = x/(\\sqrt{x+1} + \\sqrt{x})$"
   ],
   "metadata": {
    "collapsed": false,
    "pycharm": {
     "name": "#%% md\n"
    }
   }
  },
  {
   "cell_type": "code",
   "execution_count": 287,
   "outputs": [],
   "source": [
    "def g(x):\n",
    "    return x/(math.sqrt(x+1) + math.sqrt(x))"
   ],
   "metadata": {
    "collapsed": false,
    "pycharm": {
     "name": "#%%\n"
    }
   }
  },
  {
   "cell_type": "code",
   "execution_count": 288,
   "outputs": [
    {
     "name": "stdout",
     "output_type": "stream",
     "text": [
      "[0.414214, 1.543471, 4.987562, 15.807437, 49.99875, 158.113488]\n",
      "[0, 0, 0, 0, 0, 0]\n"
     ]
    }
   ],
   "source": [
    "num = [0] * 6\n",
    "accurate = [0] * 6\n",
    "approximate2 = [0] * 6\n",
    "for i in range(6):\n",
    "    num[i] = 10**i\n",
    "    accurate[i] = round(g(10**i), 6)\n",
    "    approximate[i] = round(10**i / (round(math.sqrt(10**i + 1), 6) + round(math.sqrt(10**i), 6)), 6)\n",
    "print(accurate)\n",
    "print(approximate2)"
   ],
   "metadata": {
    "collapsed": false,
    "pycharm": {
     "name": "#%%\n"
    }
   }
  },
  {
   "cell_type": "code",
   "execution_count": 289,
   "outputs": [
    {
     "data": {
      "text/plain": "[0.0, 0.0, 0.0, 0.0, 0.0, 0.0]"
     },
     "execution_count": 289,
     "metadata": {},
     "output_type": "execute_result"
    }
   ],
   "source": [
    "accurate    = [0.414213, 1.54347, 4.98756, 15.8074, 49.9987, 158.113]\n",
    "approximate2 = [0.414213, 1.54347, 4.98756, 15.8074, 49.9987, 158.113]\n",
    "error2 = [0] * 6\n",
    "for i in range(6):\n",
    "    error2[i] = round(abs(accurate[i] - approximate2[i]), 6)\n",
    "error2"
   ],
   "metadata": {
    "collapsed": false,
    "pycharm": {
     "name": "#%%\n"
    }
   }
  },
  {
   "cell_type": "code",
   "execution_count": 290,
   "outputs": [
    {
     "data": {
      "text/plain": "[0.0, 0.0, 0.0, 0.0, 0.0, 0.0]"
     },
     "execution_count": 290,
     "metadata": {},
     "output_type": "execute_result"
    }
   ],
   "source": [
    "relativeError2 = [0] * 6\n",
    "for i in range(6):\n",
    "    relativeError2[i] = round(error2[i] / accurate[i], 6)\n",
    "relativeError2"
   ],
   "metadata": {
    "collapsed": false,
    "pycharm": {
     "name": "#%%\n"
    }
   }
  },
  {
   "cell_type": "code",
   "execution_count": 291,
   "outputs": [
    {
     "name": "stdout",
     "output_type": "stream",
     "text": [
      "+--------+----------+-------------+-------+---------------+\n",
      "|   x    | accurate | approximate | error | relativeError |\n",
      "+--------+----------+-------------+-------+---------------+\n",
      "|   1    | 0.414213 |   0.414213  |  0.0  |      0.0      |\n",
      "|   10   | 1.54347  |   1.54347   |  0.0  |      0.0      |\n",
      "|  100   | 4.98756  |   4.98756   |  0.0  |      0.0      |\n",
      "|  1000  | 15.8074  |   15.8074   |  0.0  |      0.0      |\n",
      "| 10000  | 49.9987  |   49.9987   |  0.0  |      0.0      |\n",
      "| 100000 | 158.113  |   158.113   |  0.0  |      0.0      |\n",
      "+--------+----------+-------------+-------+---------------+\n"
     ]
    }
   ],
   "source": [
    "t = PrettyTable(['x', 'accurate', 'approximate', 'error', 'relativeError'])\n",
    "for i in range(6):\n",
    "    t.add_row([10**i, accurate[i], approximate2[i], error2[i], relativeError2[i]])\n",
    "print(t)"
   ],
   "metadata": {
    "collapsed": false,
    "pycharm": {
     "name": "#%%\n"
    }
   }
  },
  {
   "cell_type": "markdown",
   "source": [
    "Now we combine two tables."
   ],
   "metadata": {
    "collapsed": false,
    "pycharm": {
     "name": "#%% md\n"
    }
   }
  },
  {
   "cell_type": "code",
   "execution_count": 292,
   "outputs": [
    {
     "name": "stdout",
     "output_type": "stream",
     "text": [
      "+--------+----------+-------------+--------+---------------+-------------------------+\n",
      "|   x    | accurate | approximate | error  | relativeError | changed function values |\n",
      "+--------+----------+-------------+--------+---------------+-------------------------+\n",
      "|   1    | 0.414213 |   0.414213  | 1e-06  |     2e-06     |         0.414213        |\n",
      "|   10   | 1.54347  |   1.543471  |  0.0   |      0.0      |         1.54347         |\n",
      "|  100   | 4.98756  |   4.987562  | 4e-05  |     8e-06     |         4.98756         |\n",
      "|  1000  | 15.8074  |  15.807437  | 0.0004 |    2.5e-05    |         15.8074         |\n",
      "| 10000  | 49.9987  |   49.99875  | 0.0013 |    2.6e-05    |         49.9987         |\n",
      "| 100000 | 158.113  |  158.113488 | 0.013  |    8.2e-05    |         158.113         |\n",
      "+--------+----------+-------------+--------+---------------+-------------------------+\n"
     ]
    }
   ],
   "source": [
    "t = PrettyTable(['x', 'accurate', 'approximate', 'error', 'relativeError', 'changed function values'])\n",
    "for i in range(6):\n",
    "    t.add_row([10**i, accurate[i], approximate[i], error[i], relativeError[i], approximate2[i]])\n",
    "print(t)"
   ],
   "metadata": {
    "collapsed": false,
    "pycharm": {
     "name": "#%%\n"
    }
   }
  },
  {
   "cell_type": "markdown",
   "source": [
    "# Conclusion\n",
    "We have error in subtraction of round numbers and, it increases when number increases but, if we change its form to a sum situation we can see that it doesn't have any error."
   ],
   "metadata": {
    "collapsed": false,
    "pycharm": {
     "name": "#%% md\n"
    }
   }
  },
  {
   "cell_type": "markdown",
   "source": [
    "# Problem 2:\n",
    "Calculate until 3 and 4 decimal $\\sqrt{2}$ $\\sqrt{3}$ $\\sqrt{23}$"
   ],
   "metadata": {
    "collapsed": false,
    "pycharm": {
     "name": "#%% md\n"
    }
   }
  },
  {
   "cell_type": "code",
   "execution_count": 293,
   "outputs": [
    {
     "name": "stdout",
     "output_type": "stream",
     "text": [
      "1.4142135623730951\n",
      "1.7320508075688772\n",
      "4.795831523312719\n"
     ]
    }
   ],
   "source": [
    "print(math.sqrt(2))\n",
    "print(math.sqrt(3))\n",
    "print(math.sqrt(23))"
   ],
   "metadata": {
    "collapsed": false,
    "pycharm": {
     "name": "#%%\n"
    }
   }
  },
  {
   "cell_type": "markdown",
   "source": [
    "First, we calculate until 3 decimal."
   ],
   "metadata": {
    "collapsed": false,
    "pycharm": {
     "name": "#%% md\n"
    }
   }
  },
  {
   "cell_type": "code",
   "execution_count": 294,
   "outputs": [
    {
     "name": "stdout",
     "output_type": "stream",
     "text": [
      "1.414\n",
      "1.732\n",
      "4.796\n"
     ]
    }
   ],
   "source": [
    "print(round(math.sqrt(2), 3))\n",
    "print(round(math.sqrt(3), 3))\n",
    "print(round(math.sqrt(23), 3))"
   ],
   "metadata": {
    "collapsed": false,
    "pycharm": {
     "name": "#%%\n"
    }
   }
  },
  {
   "cell_type": "markdown",
   "source": [
    "Now calculate until 4 decimal."
   ],
   "metadata": {
    "collapsed": false,
    "pycharm": {
     "name": "#%% md\n"
    }
   }
  },
  {
   "cell_type": "code",
   "execution_count": 295,
   "outputs": [
    {
     "name": "stdout",
     "output_type": "stream",
     "text": [
      "1.4142\n",
      "1.7321\n",
      "4.7958\n"
     ]
    }
   ],
   "source": [
    "print(round(math.sqrt(2), 4))\n",
    "print(round(math.sqrt(3), 4))\n",
    "print(round(math.sqrt(23), 4))"
   ],
   "metadata": {
    "collapsed": false,
    "pycharm": {
     "name": "#%%\n"
    }
   }
  },
  {
   "cell_type": "code",
   "execution_count": 296,
   "outputs": [
    {
     "name": "stdout",
     "output_type": "stream",
     "text": [
      "0.0002\n",
      "0.0001\n",
      "0.0002\n"
     ]
    }
   ],
   "source": [
    "print(abs(round(math.sqrt(2) - round(math.sqrt(2), 3), 4)))\n",
    "print(abs(round(math.sqrt(3) - round(math.sqrt(3), 3), 4)))\n",
    "print(abs(round(math.sqrt(23) - round(math.sqrt(23), 3), 4)))"
   ],
   "metadata": {
    "collapsed": false,
    "pycharm": {
     "name": "#%%\n"
    }
   }
  },
  {
   "cell_type": "code",
   "execution_count": 297,
   "outputs": [
    {
     "name": "stdout",
     "output_type": "stream",
     "text": [
      "1e-05\n",
      "5e-05\n",
      "3e-05\n"
     ]
    }
   ],
   "source": [
    "print(abs(round(math.sqrt(2) - round(math.sqrt(2), 4), 5)))\n",
    "print(abs(round(math.sqrt(3) - round(math.sqrt(3), 4), 5)))\n",
    "print(abs(round(math.sqrt(23) - round(math.sqrt(23), 4), 5)))"
   ],
   "metadata": {
    "collapsed": false,
    "pycharm": {
     "name": "#%%\n"
    }
   }
  },
  {
   "cell_type": "markdown",
   "source": [
    "# Problem 3:\n",
    "$f(x) = {1 - cos(x)/x^2}$\n",
    "\n",
    "For x near to 0 find accurate and approximate values."
   ],
   "metadata": {
    "collapsed": false,
    "pycharm": {
     "name": "#%% md\n"
    }
   }
  },
  {
   "cell_type": "code",
   "execution_count": 298,
   "outputs": [],
   "source": [
    "def f(x):\n",
    "    return (1 - math.cos(x))/(x**2)"
   ],
   "metadata": {
    "collapsed": false,
    "pycharm": {
     "name": "#%%\n"
    }
   }
  },
  {
   "cell_type": "code",
   "execution_count": 299,
   "outputs": [],
   "source": [
    "accurate = [0] * 6\n",
    "approximate = [0] * 6\n",
    "error = [0] * 6\n",
    "relativeError = [0] * 6"
   ],
   "metadata": {
    "collapsed": false,
    "pycharm": {
     "name": "#%%\n"
    }
   }
  },
  {
   "cell_type": "code",
   "execution_count": 300,
   "outputs": [
    {
     "name": "stdout",
     "output_type": "stream",
     "text": [
      "[0.45969769413186023, 0.49958347219741783, 0.4999958333473664, 0.49999995832550326, 0.4999999969612645, 0.5000000413701854]\n",
      "[0.4597, 0.4996, 0.5, 0.5, 0.5, 0.5]\n",
      "[2.3059e-06, 1.65278e-05, 4.1667e-06, 4.17e-08, 3e-09, 4.14e-08]\n",
      "[5.0161e-06, 3.30832e-05, 8.3335e-06, 8.34e-08, 6e-09, 8.28e-08]\n"
     ]
    }
   ],
   "source": [
    "for i in range(6):\n",
    "    accurate[i] = f(10**(-i))\n",
    "    approximate[i] = round(f(10**(-i)), 4)\n",
    "    error[i] = round(abs(accurate[i] - approximate[i]), 10)\n",
    "    relativeError[i] = round(abs(error[i])/abs(accurate[i]), 10)\n",
    "print(accurate)\n",
    "print(approximate)\n",
    "print(error)\n",
    "print(relativeError)"
   ],
   "metadata": {
    "collapsed": false,
    "pycharm": {
     "name": "#%%\n"
    }
   }
  },
  {
   "cell_type": "code",
   "execution_count": 301,
   "outputs": [
    {
     "name": "stdout",
     "output_type": "stream",
     "text": [
      "+--------+---------------------+-------------+-------------+---------------+\n",
      "|   x    |       accurate      | approximate |    error    | relativeError |\n",
      "+--------+---------------------+-------------+-------------+---------------+\n",
      "|   1    | 0.45969769413186023 |    0.4597   |  2.3059e-06 |   5.0161e-06  |\n",
      "|  0.1   | 0.49958347219741783 |    0.4996   | 1.65278e-05 |  3.30832e-05  |\n",
      "|  0.01  |  0.4999958333473664 |     0.5     |  4.1667e-06 |   8.3335e-06  |\n",
      "| 0.001  | 0.49999995832550326 |     0.5     |   4.17e-08  |    8.34e-08   |\n",
      "| 0.0001 |  0.4999999969612645 |     0.5     |    3e-09    |     6e-09     |\n",
      "| 1e-05  |  0.5000000413701854 |     0.5     |   4.14e-08  |    8.28e-08   |\n",
      "+--------+---------------------+-------------+-------------+---------------+\n"
     ]
    }
   ],
   "source": [
    "accurate = [0.45969769413186023, 0.49958347219741783, 0.4999958333473664, 0.49999995832550326, 0.4999999969612645, 0.5000000413701854]\n",
    "approximate = [0.4597, 0.4996, 0.5, 0.5, 0.5, 0.5]\n",
    "error = [2.3059e-06, 1.65278e-05, 4.1667e-06, 4.17e-08, 3e-09, 4.14e-08]\n",
    "relativeError = [5.0161e-06, 3.30832e-05, 8.3335e-06, 8.34e-08, 6e-09, 8.28e-08]\n",
    "t = PrettyTable(['x', 'accurate', 'approximate', 'error', 'relativeError'])\n",
    "for i in range(6):\n",
    "    t.add_row([10**(-i), accurate[i], approximate[i], error[i], relativeError[i]])\n",
    "print(t)"
   ],
   "metadata": {
    "collapsed": false,
    "pycharm": {
     "name": "#%%\n"
    }
   }
  },
  {
   "cell_type": "code",
   "execution_count": 302,
   "outputs": [],
   "source": [
    "# Hope you like it ;)"
   ],
   "metadata": {
    "collapsed": false,
    "pycharm": {
     "name": "#%%\n"
    }
   }
  }
 ],
 "metadata": {
  "kernelspec": {
   "display_name": "Python 3",
   "language": "python",
   "name": "python3"
  },
  "language_info": {
   "codemirror_mode": {
    "name": "ipython",
    "version": 2
   },
   "file_extension": ".py",
   "mimetype": "text/x-python",
   "name": "python",
   "nbconvert_exporter": "python",
   "pygments_lexer": "ipython2",
   "version": "2.7.6"
  }
 },
 "nbformat": 4,
 "nbformat_minor": 0
}