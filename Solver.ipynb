{
 "cells": [
  {
   "cell_type": "code",
   "execution_count": 44,
   "outputs": [],
   "source": [
    "# This code is developed by Pooyan :D"
   ],
   "metadata": {
    "collapsed": false,
    "pycharm": {
     "name": "#%%\n"
    }
   }
  },
  {
   "cell_type": "markdown",
   "source": [
    "# Assignment Tittle\n",
    "__Author__ : Pooyan oskouhi 400222003\n",
    "__Course__ : Undergraduate Numerical Analysis Course"
   ],
   "metadata": {
    "collapsed": false,
    "pycharm": {
     "name": "#%% md\n"
    }
   }
  },
  {
   "cell_type": "markdown",
   "source": [
    "# Problem\n",
    "Solve $ x + cosx = 0 $ in two ways.(Bisection and False position)"
   ],
   "metadata": {
    "collapsed": false,
    "pycharm": {
     "name": "#%% md\n"
    }
   }
  },
  {
   "cell_type": "markdown",
   "source": [
    "## Bisection\n",
    "In geometry, bisection is the division of something into two equal or congruent parts (having the same shape and size). Usually it involves a bisecting line, also called a bisector."
   ],
   "metadata": {
    "collapsed": false,
    "pycharm": {
     "name": "#%% md\n"
    }
   }
  },
  {
   "cell_type": "code",
   "execution_count": 45,
   "outputs": [],
   "source": [
    "import math"
   ],
   "metadata": {
    "collapsed": false,
    "pycharm": {
     "name": "#%%\n"
    }
   }
  },
  {
   "cell_type": "code",
   "execution_count": 46,
   "outputs": [
    {
     "data": {
      "text/plain": "'exact answer is -0.7390851332151607 and we find it in 61 steps'"
     },
     "execution_count": 46,
     "metadata": {},
     "output_type": "execute_result"
    }
   ],
   "source": [
    "def bisection(a, b, counter):\n",
    "    mid = (a+b)/2\n",
    "    if mid + math.cos(mid) > 0:\n",
    "        return bisection(a, mid, counter+1)\n",
    "    elif mid + math.cos(mid) < 0:\n",
    "        return bisection(mid, b, counter+1)\n",
    "    else:\n",
    "        return \"exact answer is \" + mid.__str__() + \" and we find it in \" + counter.__str__() + \" steps\"\n",
    "\n",
    "\n",
    "bisection(-10, 1000, 0)"
   ],
   "metadata": {
    "collapsed": false,
    "pycharm": {
     "name": "#%%\n"
    }
   }
  },
  {
   "cell_type": "markdown",
   "source": [
    "### Conclusion\n",
    "We can find answer of the equation by Bisection but, it takes a long time."
   ],
   "metadata": {
    "collapsed": false,
    "pycharm": {
     "name": "#%% md\n"
    }
   }
  },
  {
   "cell_type": "markdown",
   "source": [
    "## False position\n",
    "__The false position__ method is one of the iterative methods of finding the roots of a __non-linear__ equation of the form f(x) = 0. This method provides us with a better approximation of the roots of the equation."
   ],
   "metadata": {
    "collapsed": false,
    "pycharm": {
     "name": "#%% md\n"
    }
   }
  },
  {
   "cell_type": "code",
   "execution_count": 47,
   "outputs": [
    {
     "data": {
      "text/plain": "'exact answer is -0.7390851332151607 and we find it in 55 steps'"
     },
     "execution_count": 47,
     "metadata": {},
     "output_type": "execute_result"
    }
   ],
   "source": [
    "def falsePosition(a, b, counter):\n",
    "    x = (a*(b + math.cos(b)) - b*(a + math.cos(a)))/((b + math.cos(b)) - (a + math.cos(a)))\n",
    "    if x + math.cos(x) > 0:\n",
    "        return bisection(a, x, counter+1)\n",
    "    elif x + math.cos(x) < 0:\n",
    "        return bisection(x, b, counter+1)\n",
    "    else:\n",
    "        return \"exact answer is \" + x.__str__() + \" and we find it in \" + counter.__str__() + \" steps\"\n",
    "\n",
    "\n",
    "falsePosition(-10, 1000, 0)"
   ],
   "metadata": {
    "collapsed": false,
    "pycharm": {
     "name": "#%%\n"
    }
   }
  },
  {
   "cell_type": "markdown",
   "source": [
    "### Conclusion\n",
    "We can find answer of the equation by False position but, it takes a long time."
   ],
   "metadata": {
    "collapsed": false,
    "pycharm": {
     "name": "#%% md\n"
    }
   }
  },
  {
   "cell_type": "markdown",
   "source": [
    "# Conclusion\n",
    "We can see that the false position method is faster than bisection"
   ],
   "metadata": {
    "collapsed": false,
    "pycharm": {
     "name": "#%% md\n"
    }
   }
  },
  {
   "cell_type": "code",
   "execution_count": 48,
   "outputs": [],
   "source": [
    "# Hope you like it ;)"
   ],
   "metadata": {
    "collapsed": false,
    "pycharm": {
     "name": "#%%\n"
    }
   }
  }
 ],
 "metadata": {
  "kernelspec": {
   "display_name": "Python 3",
   "language": "python",
   "name": "python3"
  },
  "language_info": {
   "codemirror_mode": {
    "name": "ipython",
    "version": 2
   },
   "file_extension": ".py",
   "mimetype": "text/x-python",
   "name": "python",
   "nbconvert_exporter": "python",
   "pygments_lexer": "ipython2",
   "version": "2.7.6"
  }
 },
 "nbformat": 4,
 "nbformat_minor": 0
}