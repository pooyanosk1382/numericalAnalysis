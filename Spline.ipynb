{
 "cells": [
  {
   "cell_type": "code",
   "execution_count": 1,
   "outputs": [],
   "source": [
    "# This code is developed by Pooyan :D"
   ],
   "metadata": {
    "collapsed": false,
    "pycharm": {
     "name": "#%%\n"
    }
   }
  },
  {
   "cell_type": "markdown",
   "source": [
    "# Assignment Tittle\n",
    "__Author__ : Pooyan oskouhi 400222003\n",
    "__Course__ : Undergraduate Numerical Analysis Course"
   ],
   "metadata": {
    "collapsed": false,
    "pycharm": {
     "name": "#%% md\n"
    }
   }
  },
  {
   "cell_type": "code",
   "execution_count": 1,
   "outputs": [],
   "source": [
    "import numpy as np\n",
    "import pandas as pd\n",
    "import matplotlib.pyplot as plt\n",
    "import sympy as sp"
   ],
   "metadata": {
    "collapsed": false,
    "pycharm": {
     "name": "#%%\n"
    }
   }
  },
  {
   "cell_type": "markdown",
   "source": [
    "# Problem 1\n",
    "Assume $ f(x) = arctan(x) $.Write cubic spline with 11 points in terval [0, 1]."
   ],
   "metadata": {
    "collapsed": false,
    "pycharm": {
     "name": "#%% md\n"
    }
   }
  },
  {
   "cell_type": "code",
   "execution_count": 2,
   "outputs": [],
   "source": [
    "x = sp.symbols('x')\n",
    "f = sp.sqrt(x) * sp.atan(x)"
   ],
   "metadata": {
    "collapsed": false,
    "pycharm": {
     "name": "#%%\n"
    }
   }
  },
  {
   "cell_type": "code",
   "execution_count": 3,
   "outputs": [
    {
     "data": {
      "text/plain": "[0.0,\n 0.031517995319188724,\n 0.08827797805619232,\n 0.15963746087367492,\n 0.24065336317880726,\n 0.32784836840539894,\n 0.4186071449027414,\n 0.5109700015709241,\n 0.6035066456056488,\n 0.695209447624046,\n 0.7853981633974483]"
     },
     "execution_count": 3,
     "metadata": {},
     "output_type": "execute_result"
    }
   ],
   "source": [
    "x_values = [0.0, 0.1, 0.2, 0.3, 0.4, 0.5, 0.6, 0.7, 0.8, 0.9, 1.0]\n",
    "y_values = [float(f.subs(x, i)) for i in x_values]\n",
    "y_values"
   ],
   "metadata": {
    "collapsed": false,
    "pycharm": {
     "name": "#%%\n"
    }
   }
  },
  {
   "cell_type": "code",
   "execution_count": 4,
   "outputs": [],
   "source": [
    "from typing import Tuple, List\n",
    "import bisect"
   ],
   "metadata": {
    "collapsed": false,
    "pycharm": {
     "name": "#%%\n"
    }
   }
  },
  {
   "cell_type": "code",
   "execution_count": 5,
   "outputs": [],
   "source": [
    "def compute_changes(x: List[float]) -> List[float]:\n",
    "    return [x[i+1] - x[i] for i in range(len(x) - 1)]"
   ],
   "metadata": {
    "collapsed": false,
    "pycharm": {
     "name": "#%%\n"
    }
   }
  },
  {
   "cell_type": "code",
   "execution_count": 6,
   "outputs": [],
   "source": [
    "def create_tridiagonalmatrix(n: int, h: List[float]) -> Tuple[List[float], List[float], List[float]]:\n",
    "    A = [h[i] / (h[i] + h[i + 1]) for i in range(n - 2)] + [0]\n",
    "    B = [2] * n\n",
    "    C = [0] + [h[i + 1] / (h[i] + h[i + 1]) for i in range(n - 2)]\n",
    "    return A, B, C"
   ],
   "metadata": {
    "collapsed": false,
    "pycharm": {
     "name": "#%%\n"
    }
   }
  },
  {
   "cell_type": "code",
   "execution_count": 8,
   "outputs": [],
   "source": [
    "def create_target(n: int, h: List[float], y: List[float]):\n",
    "    return [0] + [6 * ((y[i + 1] - y[i]) / h[i] - (y[i] - y[i - 1]) / h[i - 1]) / (h[i] + h[i-1]) for i in range(1, n - 1)] + [0]"
   ],
   "metadata": {
    "collapsed": false,
    "pycharm": {
     "name": "#%%\n"
    }
   }
  },
  {
   "cell_type": "code",
   "execution_count": 9,
   "outputs": [],
   "source": [
    "def solve_tridiagonalsystem(A: List[float], B: List[float], C: List[float], D: List[float]):\n",
    "    c_p = C + [0]\n",
    "    d_p = [0] * len(B)\n",
    "    X = [0] * len(B)\n",
    "\n",
    "    c_p[0] = C[0] / B[0]\n",
    "    d_p[0] = D[0] / B[0]\n",
    "    for i in range(1, len(B)):\n",
    "        c_p[i] = c_p[i] / (B[i] - c_p[i - 1] * A[i - 1])\n",
    "        d_p[i] = (D[i] - d_p[i - 1] * A[i - 1]) / (B[i] - c_p[i - 1] * A[i - 1])\n",
    "\n",
    "    X[-1] = d_p[-1]\n",
    "    for i in range(len(B) - 2, -1, -1):\n",
    "        X[i] = d_p[i] - c_p[i] * X[i + 1]\n",
    "\n",
    "    return X"
   ],
   "metadata": {
    "collapsed": false,
    "pycharm": {
     "name": "#%%\n"
    }
   }
  },
  {
   "cell_type": "code",
   "execution_count": 10,
   "outputs": [],
   "source": [
    "def compute_spline(x: List[float], y: List[float]):\n",
    "    n = len(x)\n",
    "    h = compute_changes(x)\n",
    "\n",
    "    A, B, C = create_tridiagonalmatrix(n, h)\n",
    "    D = create_target(n, h, y)\n",
    "\n",
    "    M = solve_tridiagonalsystem(A, B, C, D)\n",
    "\n",
    "    alpha = [y[i] for i in range(n)]\n",
    "    beta = [(y[i+1] - y[i] - (M[i+1]+2*M[i])*h[i]*h[i]/6) for i in range(n - 1)]\n",
    "    gamma = [M[i]*h[i]*h[i]/2 for i in range(n - 1)]\n",
    "    delta = [(M[i+1]-M[i])*h[i]*h[i]/6 for i in range(n - 1)]\n",
    "\n",
    "    return h, alpha, beta, gamma, delta"
   ],
   "metadata": {
    "collapsed": false,
    "pycharm": {
     "name": "#%%\n"
    }
   }
  },
  {
   "cell_type": "code",
   "execution_count": 11,
   "outputs": [],
   "source": [
    "h, alpha, beta, gamma, delta = compute_spline(x_values, y_values)"
   ],
   "metadata": {
    "collapsed": false,
    "pycharm": {
     "name": "#%%\n"
    }
   }
  },
  {
   "cell_type": "code",
   "execution_count": null,
   "outputs": [],
   "source": [],
   "metadata": {
    "collapsed": false,
    "pycharm": {
     "name": "#%%\n"
    }
   }
  }
 ],
 "metadata": {
  "kernelspec": {
   "display_name": "Python 3",
   "language": "python",
   "name": "python3"
  },
  "language_info": {
   "codemirror_mode": {
    "name": "ipython",
    "version": 2
   },
   "file_extension": ".py",
   "mimetype": "text/x-python",
   "name": "python",
   "nbconvert_exporter": "python",
   "pygments_lexer": "ipython2",
   "version": "2.7.6"
  }
 },
 "nbformat": 4,
 "nbformat_minor": 0
}